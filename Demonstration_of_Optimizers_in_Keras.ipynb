{
  "nbformat": 4,
  "nbformat_minor": 0,
  "metadata": {
    "colab": {
      "name": "Demonstration of Optimizers in Keras.ipynb",
      "provenance": [],
      "toc_visible": true,
      "include_colab_link": true
    },
    "kernelspec": {
      "name": "python3",
      "display_name": "Python 3"
    },
    "accelerator": "GPU"
  },
  "cells": [
    {
      "cell_type": "markdown",
      "metadata": {
        "id": "view-in-github",
        "colab_type": "text"
      },
      "source": [
        "<a href=\"https://colab.research.google.com/github/mahiidharv/Demonstration-of-Different-Optimizers-on-Autoencoders/blob/master/Demonstration_of_Optimizers_in_Keras.ipynb\" target=\"_parent\"><img src=\"https://colab.research.google.com/assets/colab-badge.svg\" alt=\"Open In Colab\"/></a>"
      ]
    },
    {
      "cell_type": "code",
      "metadata": {
        "colab_type": "code",
        "id": "RWSJpsyKqHjH",
        "outputId": "979a3610-e8e5-4ef0-f8c5-036f1ecf8418",
        "colab": {
          "base_uri": "https://localhost:8080/",
          "height": 124
        }
      },
      "source": [
        "from google.colab import drive\n",
        "drive.mount('/content/drive')"
      ],
      "execution_count": 220,
      "outputs": [
        {
          "output_type": "stream",
          "text": [
            "Go to this URL in a browser: https://accounts.google.com/o/oauth2/auth?client_id=947318989803-6bn6qk8qdgf4n4g3pfee6491hc0brc4i.apps.googleusercontent.com&redirect_uri=urn%3aietf%3awg%3aoauth%3a2.0%3aoob&response_type=code&scope=email%20https%3a%2f%2fwww.googleapis.com%2fauth%2fdocs.test%20https%3a%2f%2fwww.googleapis.com%2fauth%2fdrive%20https%3a%2f%2fwww.googleapis.com%2fauth%2fdrive.photos.readonly%20https%3a%2f%2fwww.googleapis.com%2fauth%2fpeopleapi.readonly\n",
            "\n",
            "Enter your authorization code:\n",
            "··········\n",
            "Mounted at /content/drive\n"
          ],
          "name": "stdout"
        }
      ]
    },
    {
      "cell_type": "code",
      "metadata": {
        "id": "pJRLCDu-6wL7",
        "colab_type": "code",
        "colab": {}
      },
      "source": [
        "import os\n",
        "#os.listdir()"
      ],
      "execution_count": 0,
      "outputs": []
    },
    {
      "cell_type": "code",
      "metadata": {
        "id": "A8h0TZyj65aV",
        "colab_type": "code",
        "colab": {}
      },
      "source": [
        "os.chdir(\"/content/drive/My Drive/Demonstration_of_Optimizers_in_Keras\")"
      ],
      "execution_count": 0,
      "outputs": []
    },
    {
      "cell_type": "code",
      "metadata": {
        "id": "xpB5rpq6gQSy",
        "colab_type": "code",
        "colab": {
          "base_uri": "https://localhost:8080/",
          "height": 381
        },
        "outputId": "0d8a2a62-58c6-47ea-ecb0-fafc4e1babdb"
      },
      "source": [
        "!pip install tensorflow==1.15.0"
      ],
      "execution_count": 88,
      "outputs": [
        {
          "output_type": "stream",
          "text": [
            "Requirement already satisfied: tensorflow==1.15.0 in /usr/local/lib/python3.6/dist-packages (1.15.0)\n",
            "Requirement already satisfied: protobuf>=3.6.1 in /usr/local/lib/python3.6/dist-packages (from tensorflow==1.15.0) (3.10.0)\n",
            "Requirement already satisfied: absl-py>=0.7.0 in /usr/local/lib/python3.6/dist-packages (from tensorflow==1.15.0) (0.8.1)\n",
            "Requirement already satisfied: gast==0.2.2 in /usr/local/lib/python3.6/dist-packages (from tensorflow==1.15.0) (0.2.2)\n",
            "Requirement already satisfied: termcolor>=1.1.0 in /usr/local/lib/python3.6/dist-packages (from tensorflow==1.15.0) (1.1.0)\n",
            "Requirement already satisfied: astor>=0.6.0 in /usr/local/lib/python3.6/dist-packages (from tensorflow==1.15.0) (0.8.0)\n",
            "Requirement already satisfied: wrapt>=1.11.1 in /usr/local/lib/python3.6/dist-packages (from tensorflow==1.15.0) (1.11.2)\n",
            "Requirement already satisfied: google-pasta>=0.1.6 in /usr/local/lib/python3.6/dist-packages (from tensorflow==1.15.0) (0.1.8)\n",
            "Requirement already satisfied: wheel>=0.26 in /usr/local/lib/python3.6/dist-packages (from tensorflow==1.15.0) (0.33.6)\n",
            "Requirement already satisfied: numpy<2.0,>=1.16.0 in /usr/local/lib/python3.6/dist-packages (from tensorflow==1.15.0) (1.17.4)\n",
            "Requirement already satisfied: keras-preprocessing>=1.0.5 in /usr/local/lib/python3.6/dist-packages (from tensorflow==1.15.0) (1.1.0)\n",
            "Requirement already satisfied: grpcio>=1.8.6 in /usr/local/lib/python3.6/dist-packages (from tensorflow==1.15.0) (1.15.0)\n",
            "Requirement already satisfied: opt-einsum>=2.3.2 in /usr/local/lib/python3.6/dist-packages (from tensorflow==1.15.0) (3.1.0)\n",
            "Requirement already satisfied: six>=1.10.0 in /usr/local/lib/python3.6/dist-packages (from tensorflow==1.15.0) (1.12.0)\n",
            "Requirement already satisfied: tensorboard<1.16.0,>=1.15.0 in /usr/local/lib/python3.6/dist-packages (from tensorflow==1.15.0) (1.15.0)\n",
            "Requirement already satisfied: tensorflow-estimator==1.15.1 in /usr/local/lib/python3.6/dist-packages (from tensorflow==1.15.0) (1.15.1)\n",
            "Requirement already satisfied: keras-applications>=1.0.8 in /usr/local/lib/python3.6/dist-packages (from tensorflow==1.15.0) (1.0.8)\n",
            "Requirement already satisfied: setuptools in /usr/local/lib/python3.6/dist-packages (from protobuf>=3.6.1->tensorflow==1.15.0) (41.6.0)\n",
            "Requirement already satisfied: markdown>=2.6.8 in /usr/local/lib/python3.6/dist-packages (from tensorboard<1.16.0,>=1.15.0->tensorflow==1.15.0) (3.1.1)\n",
            "Requirement already satisfied: werkzeug>=0.11.15 in /usr/local/lib/python3.6/dist-packages (from tensorboard<1.16.0,>=1.15.0->tensorflow==1.15.0) (0.16.0)\n",
            "Requirement already satisfied: h5py in /usr/local/lib/python3.6/dist-packages (from keras-applications>=1.0.8->tensorflow==1.15.0) (2.8.0)\n"
          ],
          "name": "stdout"
        }
      ]
    },
    {
      "cell_type": "code",
      "metadata": {
        "id": "yE1AmdmKIQ-s",
        "colab_type": "code",
        "colab": {}
      },
      "source": [
        "from keras.datasets import mnist\n",
        "from keras.layers import Dense\n",
        "import numpy as np\n",
        "import matplotlib.pyplot as plt\n",
        "%matplotlib inline"
      ],
      "execution_count": 0,
      "outputs": []
    },
    {
      "cell_type": "code",
      "metadata": {
        "id": "vhfgB9sibo0e",
        "colab_type": "code",
        "colab": {}
      },
      "source": [
        "import warnings\n",
        "warnings.filterwarnings(\"ignore\")"
      ],
      "execution_count": 0,
      "outputs": []
    },
    {
      "cell_type": "code",
      "metadata": {
        "id": "Nahiu8CwLh-2",
        "colab_type": "code",
        "colab": {}
      },
      "source": [
        "(x_train, y_train), (x_test, y_test) = mnist.load_data()"
      ],
      "execution_count": 0,
      "outputs": []
    },
    {
      "cell_type": "markdown",
      "metadata": {
        "id": "DUSE6GmERdxk",
        "colab_type": "text"
      },
      "source": [
        "### Normalize the data between 0 and 1\n",
        "\n"
      ]
    },
    {
      "cell_type": "code",
      "metadata": {
        "id": "NVjMgA93RGQ-",
        "colab_type": "code",
        "colab": {}
      },
      "source": [
        "x_train = x_train.astype('float32') / 255.\n",
        "\n",
        "x_test = x_test.astype('float32') / 255.\n"
      ],
      "execution_count": 0,
      "outputs": []
    },
    {
      "cell_type": "code",
      "metadata": {
        "id": "iSs17NGgRKzY",
        "colab_type": "code",
        "colab": {
          "base_uri": "https://localhost:8080/",
          "height": 52
        },
        "outputId": "8965e30c-3908-44d3-9d32-cc91b4ec51e3"
      },
      "source": [
        "print (x_train.shape)\n",
        "print (x_test.shape)"
      ],
      "execution_count": 93,
      "outputs": [
        {
          "output_type": "stream",
          "text": [
            "(60000, 28, 28)\n",
            "(10000, 28, 28)\n"
          ],
          "name": "stdout"
        }
      ]
    },
    {
      "cell_type": "markdown",
      "metadata": {
        "id": "gm5kgzd6Ry2L",
        "colab_type": "text"
      },
      "source": [
        "#### Flatten the 28x28 images into vectors of size 784."
      ]
    },
    {
      "cell_type": "code",
      "metadata": {
        "id": "hYJ9T4BwRpjb",
        "colab_type": "code",
        "colab": {}
      },
      "source": [
        "x_train = x_train.reshape(x_train.shape[0],-1)\n",
        "x_test = x_test.reshape(x_test.shape[0],-1)"
      ],
      "execution_count": 0,
      "outputs": []
    },
    {
      "cell_type": "code",
      "metadata": {
        "id": "nujFjVK_Sj2c",
        "colab_type": "code",
        "colab": {
          "base_uri": "https://localhost:8080/",
          "height": 52
        },
        "outputId": "e1144f09-348f-4525-9cef-55839e7dd553"
      },
      "source": [
        "print(x_train.shape)\n",
        "print(x_test.shape)"
      ],
      "execution_count": 95,
      "outputs": [
        {
          "output_type": "stream",
          "text": [
            "(60000, 784)\n",
            "(10000, 784)\n"
          ],
          "name": "stdout"
        }
      ]
    },
    {
      "cell_type": "markdown",
      "metadata": {
        "id": "xnDiRG3-Slpv",
        "colab_type": "text"
      },
      "source": [
        "#### Encoder of the Network with Fullly Connected rows using Functional API\n",
        "\n"
      ]
    },
    {
      "cell_type": "code",
      "metadata": {
        "id": "N_z2aQ6uZkxf",
        "colab_type": "code",
        "colab": {}
      },
      "source": [
        "from keras.layers import Input, Dense\n",
        "from keras.models import Model"
      ],
      "execution_count": 0,
      "outputs": []
    },
    {
      "cell_type": "code",
      "metadata": {
        "id": "WmEo-VcMbVS9",
        "colab_type": "code",
        "colab": {}
      },
      "source": [
        "input_dim = x_train.shape[1]"
      ],
      "execution_count": 0,
      "outputs": []
    },
    {
      "cell_type": "code",
      "metadata": {
        "id": "mq510rQGbZxi",
        "colab_type": "code",
        "colab": {}
      },
      "source": [
        "encoding_dim = 32"
      ],
      "execution_count": 0,
      "outputs": []
    },
    {
      "cell_type": "markdown",
      "metadata": {
        "id": "mDQeHdjycu7t",
        "colab_type": "text"
      },
      "source": [
        "#### Encoder Decoder Network"
      ]
    },
    {
      "cell_type": "markdown",
      "metadata": {
        "id": "4-FXGy7yc5rN",
        "colab_type": "text"
      },
      "source": [
        "[link text](https://localhost:8891/view/img/autoencoder_schema.jpg)"
      ]
    },
    {
      "cell_type": "code",
      "metadata": {
        "id": "qynORmgtZ3nP",
        "colab_type": "code",
        "colab": {}
      },
      "source": [
        "input_img = Input(shape=(input_dim,))"
      ],
      "execution_count": 0,
      "outputs": []
    },
    {
      "cell_type": "code",
      "metadata": {
        "id": "swtZMclObDgB",
        "colab_type": "code",
        "colab": {
          "base_uri": "https://localhost:8080/",
          "height": 35
        },
        "outputId": "fe35e022-8b55-4e4e-b980-365bd13ff3ec"
      },
      "source": [
        "input_img.shape"
      ],
      "execution_count": 100,
      "outputs": [
        {
          "output_type": "execute_result",
          "data": {
            "text/plain": [
              "TensorShape([Dimension(None), Dimension(784)])"
            ]
          },
          "metadata": {
            "tags": []
          },
          "execution_count": 100
        }
      ]
    },
    {
      "cell_type": "code",
      "metadata": {
        "id": "24CH7-z9b-EE",
        "colab_type": "code",
        "colab": {}
      },
      "source": [
        "encoded = Dense(units=encoding_dim,activation=\"relu\")(input_img)"
      ],
      "execution_count": 0,
      "outputs": []
    },
    {
      "cell_type": "code",
      "metadata": {
        "id": "1HrMgSV2cYDy",
        "colab_type": "code",
        "colab": {}
      },
      "source": [
        "decoded = Dense(units=input_dim,activation=\"relu\")(encoded)"
      ],
      "execution_count": 0,
      "outputs": []
    },
    {
      "cell_type": "code",
      "metadata": {
        "id": "At3NBYQzdU6t",
        "colab_type": "code",
        "colab": {}
      },
      "source": [
        "autoencoder = Model(input_img, decoded)"
      ],
      "execution_count": 0,
      "outputs": []
    },
    {
      "cell_type": "code",
      "metadata": {
        "id": "vQ2-q7OLfCM-",
        "colab_type": "code",
        "colab": {
          "base_uri": "https://localhost:8080/",
          "height": 277
        },
        "outputId": "3d999657-8d55-41d4-e1ff-783750c9ffc5"
      },
      "source": [
        "print(autoencoder.summary())"
      ],
      "execution_count": 104,
      "outputs": [
        {
          "output_type": "stream",
          "text": [
            "Model: \"model_7\"\n",
            "_________________________________________________________________\n",
            "Layer (type)                 Output Shape              Param #   \n",
            "=================================================================\n",
            "input_10 (InputLayer)        (None, 784)               0         \n",
            "_________________________________________________________________\n",
            "dense_12 (Dense)             (None, 32)                25120     \n",
            "_________________________________________________________________\n",
            "dense_13 (Dense)             (None, 784)               25872     \n",
            "=================================================================\n",
            "Total params: 50,992\n",
            "Trainable params: 50,992\n",
            "Non-trainable params: 0\n",
            "_________________________________________________________________\n",
            "None\n"
          ],
          "name": "stdout"
        }
      ]
    },
    {
      "cell_type": "markdown",
      "metadata": {
        "id": "KB7AESb3gjXV",
        "colab_type": "text"
      },
      "source": [
        "#### Encoder Network"
      ]
    },
    {
      "cell_type": "code",
      "metadata": {
        "id": "pvRR189qdbz5",
        "colab_type": "code",
        "colab": {
          "base_uri": "https://localhost:8080/",
          "height": 242
        },
        "outputId": "2e7c3332-7f99-4761-f95d-af83650c13df"
      },
      "source": [
        "encoder = Model(input_img, encoded)\n",
        "print(encoder.summary())"
      ],
      "execution_count": 105,
      "outputs": [
        {
          "output_type": "stream",
          "text": [
            "Model: \"model_8\"\n",
            "_________________________________________________________________\n",
            "Layer (type)                 Output Shape              Param #   \n",
            "=================================================================\n",
            "input_10 (InputLayer)        (None, 784)               0         \n",
            "_________________________________________________________________\n",
            "dense_12 (Dense)             (None, 32)                25120     \n",
            "=================================================================\n",
            "Total params: 25,120\n",
            "Trainable params: 25,120\n",
            "Non-trainable params: 0\n",
            "_________________________________________________________________\n",
            "None\n"
          ],
          "name": "stdout"
        }
      ]
    },
    {
      "cell_type": "markdown",
      "metadata": {
        "id": "yZnbQKv9dQZn",
        "colab_type": "text"
      },
      "source": [
        "#### Decoder Network"
      ]
    },
    {
      "cell_type": "code",
      "metadata": {
        "id": "Md2U5-H2fQ5C",
        "colab_type": "code",
        "colab": {}
      },
      "source": [
        "# create a placeholder for an encoded (32-dimensional) input\n",
        "encoded_input = Input(shape=(encoding_dim,))\n",
        "\n",
        "# retrieve the last layer of the autoencoder model\n",
        "decoder_layer = autoencoder.layers[-1](encoded_input)\n",
        "\n",
        "# create the decoder model\n",
        "decoder = Model(encoded_input, decoder_layer)"
      ],
      "execution_count": 0,
      "outputs": []
    },
    {
      "cell_type": "code",
      "metadata": {
        "id": "jrrvYVK0fWGu",
        "colab_type": "code",
        "colab": {
          "base_uri": "https://localhost:8080/",
          "height": 242
        },
        "outputId": "ee64c93e-5b30-48c1-bb0d-0438d5f0244a"
      },
      "source": [
        "print(decoder.summary())"
      ],
      "execution_count": 107,
      "outputs": [
        {
          "output_type": "stream",
          "text": [
            "Model: \"model_9\"\n",
            "_________________________________________________________________\n",
            "Layer (type)                 Output Shape              Param #   \n",
            "=================================================================\n",
            "input_11 (InputLayer)        (None, 32)                0         \n",
            "_________________________________________________________________\n",
            "dense_13 (Dense)             (None, 784)               25872     \n",
            "=================================================================\n",
            "Total params: 25,872\n",
            "Trainable params: 25,872\n",
            "Non-trainable params: 0\n",
            "_________________________________________________________________\n",
            "None\n"
          ],
          "name": "stdout"
        }
      ]
    },
    {
      "cell_type": "code",
      "metadata": {
        "id": "r35-UqRomloH",
        "colab_type": "code",
        "colab": {}
      },
      "source": [
        ""
      ],
      "execution_count": 0,
      "outputs": []
    },
    {
      "cell_type": "markdown",
      "metadata": {
        "id": "LJ7Ut3R0fcbP",
        "colab_type": "text"
      },
      "source": [
        "#### Configure the model to use a per-pixel binary crossentropy loss, and different optimizer:\n"
      ]
    },
    {
      "cell_type": "code",
      "metadata": {
        "id": "RY0PgCtZmmUQ",
        "colab_type": "code",
        "colab": {}
      },
      "source": [
        "def optimizers_history(optimizer):\n",
        "  autoencoder.compile(loss=\"binary_crossentropy\",optimizer=optimizer,metrics=[\"accuracy\"])\n",
        "  training_history = autoencoder.fit(x_train, x_train, epochs=50,\n",
        "                                   batch_size=256, shuffle=True,\n",
        "                                   validation_data=(x_test, x_test))\n",
        "  title = \"Training Loss and Accuracy on MNIST ({})\".format(optimizer)\n",
        "  return training_history,title\n"
      ],
      "execution_count": 0,
      "outputs": []
    },
    {
      "cell_type": "code",
      "metadata": {
        "id": "NzRcfcb-m9pW",
        "colab_type": "code",
        "colab": {}
      },
      "source": [
        "from keras.optimizers import Adam,Adadelta,sgd"
      ],
      "execution_count": 0,
      "outputs": []
    },
    {
      "cell_type": "code",
      "metadata": {
        "id": "mMaHiEvKnloM",
        "colab_type": "code",
        "colab": {}
      },
      "source": [
        "optimizers = [\"Adam\",\"Adadelta\",\"sgd\",\"RMSprop\"]"
      ],
      "execution_count": 0,
      "outputs": []
    },
    {
      "cell_type": "code",
      "metadata": {
        "id": "FQIX7vkiqFIB",
        "colab_type": "code",
        "colab": {
          "base_uri": "https://localhost:8080/",
          "height": 1000
        },
        "outputId": "c50f3402-cd1e-42d0-9057-c9f98c3333a0"
      },
      "source": [
        "list_of_trainhistory=[optimizers_history(optimizer) for optimizer in optimizers]"
      ],
      "execution_count": 157,
      "outputs": [
        {
          "output_type": "stream",
          "text": [
            "Train on 60000 samples, validate on 10000 samples\n",
            "Epoch 1/50\n",
            "60000/60000 [==============================] - 2s 31us/step - loss: 0.1834 - acc: 0.8117 - val_loss: 0.1813 - val_acc: 0.8109\n",
            "Epoch 2/50\n",
            "60000/60000 [==============================] - 1s 23us/step - loss: 0.2155 - acc: 0.8099 - val_loss: 0.2037 - val_acc: 0.8094\n",
            "Epoch 3/50\n",
            "60000/60000 [==============================] - 1s 24us/step - loss: 0.2100 - acc: 0.8097 - val_loss: 0.2587 - val_acc: 0.8070\n",
            "Epoch 4/50\n",
            "60000/60000 [==============================] - 1s 24us/step - loss: 0.2020 - acc: 0.8104 - val_loss: 0.2235 - val_acc: 0.8058\n",
            "Epoch 5/50\n",
            "60000/60000 [==============================] - 1s 23us/step - loss: 0.1944 - acc: 0.8101 - val_loss: 0.2160 - val_acc: 0.8084\n",
            "Epoch 6/50\n",
            "60000/60000 [==============================] - 1s 24us/step - loss: 0.1835 - acc: 0.8108 - val_loss: 0.1651 - val_acc: 0.8110\n",
            "Epoch 7/50\n",
            "60000/60000 [==============================] - 1s 23us/step - loss: 0.1751 - acc: 0.8111 - val_loss: 0.1731 - val_acc: 0.8106\n",
            "Epoch 8/50\n",
            "60000/60000 [==============================] - 1s 24us/step - loss: 0.1739 - acc: 0.8112 - val_loss: 0.1631 - val_acc: 0.8106\n",
            "Epoch 9/50\n",
            "60000/60000 [==============================] - 1s 24us/step - loss: 0.1748 - acc: 0.8110 - val_loss: 0.1855 - val_acc: 0.8091\n",
            "Epoch 10/50\n",
            "60000/60000 [==============================] - 1s 23us/step - loss: 0.2747 - acc: 0.8043 - val_loss: 0.2335 - val_acc: 0.8048\n",
            "Epoch 11/50\n",
            "60000/60000 [==============================] - 1s 24us/step - loss: 0.2462 - acc: 0.8064 - val_loss: 0.2419 - val_acc: 0.8053\n",
            "Epoch 12/50\n",
            "60000/60000 [==============================] - 1s 23us/step - loss: 0.2356 - acc: 0.8059 - val_loss: 0.2458 - val_acc: 0.8039\n",
            "Epoch 13/50\n",
            "60000/60000 [==============================] - 1s 24us/step - loss: 0.2099 - acc: 0.8077 - val_loss: 0.1902 - val_acc: 0.8085\n",
            "Epoch 14/50\n",
            "60000/60000 [==============================] - 1s 25us/step - loss: 0.2076 - acc: 0.8074 - val_loss: 0.2047 - val_acc: 0.8062\n",
            "Epoch 15/50\n",
            "60000/60000 [==============================] - 1s 24us/step - loss: 0.2005 - acc: 0.8081 - val_loss: 0.2019 - val_acc: 0.8072\n",
            "Epoch 16/50\n",
            "60000/60000 [==============================] - 1s 24us/step - loss: 0.1861 - acc: 0.8093 - val_loss: 0.1762 - val_acc: 0.8092\n",
            "Epoch 17/50\n",
            "60000/60000 [==============================] - 1s 23us/step - loss: 0.1785 - acc: 0.8100 - val_loss: 0.1718 - val_acc: 0.8097\n",
            "Epoch 18/50\n",
            "60000/60000 [==============================] - 1s 23us/step - loss: 0.1729 - acc: 0.8105 - val_loss: 0.1736 - val_acc: 0.8100\n",
            "Epoch 19/50\n",
            "60000/60000 [==============================] - 1s 24us/step - loss: 0.2128 - acc: 0.8077 - val_loss: 0.1775 - val_acc: 0.8092\n",
            "Epoch 20/50\n",
            "60000/60000 [==============================] - 1s 24us/step - loss: 0.1751 - acc: 0.8104 - val_loss: 0.1759 - val_acc: 0.8098\n",
            "Epoch 21/50\n",
            "60000/60000 [==============================] - 1s 24us/step - loss: 0.1741 - acc: 0.8105 - val_loss: 0.1679 - val_acc: 0.8099\n",
            "Epoch 22/50\n",
            "60000/60000 [==============================] - 1s 23us/step - loss: 0.1726 - acc: 0.8106 - val_loss: 0.1715 - val_acc: 0.8094\n",
            "Epoch 23/50\n",
            "60000/60000 [==============================] - 1s 23us/step - loss: 0.1959 - acc: 0.8090 - val_loss: 0.1878 - val_acc: 0.8081\n",
            "Epoch 24/50\n",
            "60000/60000 [==============================] - 1s 24us/step - loss: 0.1927 - acc: 0.8084 - val_loss: 0.1759 - val_acc: 0.8089\n",
            "Epoch 25/50\n",
            "60000/60000 [==============================] - 1s 24us/step - loss: 0.1932 - acc: 0.8085 - val_loss: 0.2384 - val_acc: 0.8008\n",
            "Epoch 26/50\n",
            "60000/60000 [==============================] - 1s 23us/step - loss: 0.2480 - acc: 0.8038 - val_loss: 0.2095 - val_acc: 0.8060\n",
            "Epoch 27/50\n",
            "60000/60000 [==============================] - 1s 23us/step - loss: 0.2224 - acc: 0.8064 - val_loss: 0.1946 - val_acc: 0.8074\n",
            "Epoch 28/50\n",
            "60000/60000 [==============================] - 1s 24us/step - loss: 0.2003 - acc: 0.8082 - val_loss: 0.1948 - val_acc: 0.8078\n",
            "Epoch 29/50\n",
            "60000/60000 [==============================] - 1s 24us/step - loss: 0.1913 - acc: 0.8090 - val_loss: 0.1770 - val_acc: 0.8091\n",
            "Epoch 30/50\n",
            "60000/60000 [==============================] - 1s 24us/step - loss: 0.1762 - acc: 0.8102 - val_loss: 0.2077 - val_acc: 0.8064\n",
            "Epoch 31/50\n",
            "60000/60000 [==============================] - 1s 24us/step - loss: 0.2020 - acc: 0.8079 - val_loss: 0.1846 - val_acc: 0.8087\n",
            "Epoch 32/50\n",
            "60000/60000 [==============================] - 1s 24us/step - loss: 0.2404 - acc: 0.8050 - val_loss: 0.2392 - val_acc: 0.8036\n",
            "Epoch 33/50\n",
            "60000/60000 [==============================] - 1s 23us/step - loss: 0.2277 - acc: 0.8055 - val_loss: 0.2166 - val_acc: 0.8050\n",
            "Epoch 34/50\n",
            "60000/60000 [==============================] - 1s 24us/step - loss: 0.2005 - acc: 0.8076 - val_loss: 0.1887 - val_acc: 0.8077\n",
            "Epoch 35/50\n",
            "60000/60000 [==============================] - 1s 23us/step - loss: 0.1841 - acc: 0.8091 - val_loss: 0.1778 - val_acc: 0.8090\n",
            "Epoch 36/50\n",
            "60000/60000 [==============================] - 1s 24us/step - loss: 0.1794 - acc: 0.8097 - val_loss: 0.1749 - val_acc: 0.8089\n",
            "Epoch 37/50\n",
            "60000/60000 [==============================] - 1s 24us/step - loss: 0.1883 - acc: 0.8086 - val_loss: 0.1762 - val_acc: 0.8087\n",
            "Epoch 38/50\n",
            "60000/60000 [==============================] - 1s 24us/step - loss: 0.2205 - acc: 0.8067 - val_loss: 0.2164 - val_acc: 0.8056\n",
            "Epoch 39/50\n",
            "60000/60000 [==============================] - 1s 25us/step - loss: 0.2059 - acc: 0.8073 - val_loss: 0.1926 - val_acc: 0.8072\n",
            "Epoch 40/50\n",
            "60000/60000 [==============================] - 1s 24us/step - loss: 0.1899 - acc: 0.8090 - val_loss: 0.1791 - val_acc: 0.8089\n",
            "Epoch 41/50\n",
            "60000/60000 [==============================] - 1s 24us/step - loss: 0.1780 - acc: 0.8101 - val_loss: 0.1742 - val_acc: 0.8093\n",
            "Epoch 42/50\n",
            "60000/60000 [==============================] - 1s 24us/step - loss: 0.1921 - acc: 0.8082 - val_loss: 0.1833 - val_acc: 0.8078\n",
            "Epoch 43/50\n",
            "60000/60000 [==============================] - 1s 24us/step - loss: 0.1962 - acc: 0.8080 - val_loss: 0.1894 - val_acc: 0.8081\n",
            "Epoch 44/50\n",
            "60000/60000 [==============================] - 1s 24us/step - loss: 0.1845 - acc: 0.8091 - val_loss: 0.1820 - val_acc: 0.8081\n",
            "Epoch 45/50\n",
            "60000/60000 [==============================] - 1s 23us/step - loss: 0.2304 - acc: 0.8060 - val_loss: 0.1987 - val_acc: 0.8077\n",
            "Epoch 46/50\n",
            "60000/60000 [==============================] - 1s 24us/step - loss: 0.1937 - acc: 0.8088 - val_loss: 0.1934 - val_acc: 0.8072\n",
            "Epoch 47/50\n",
            "60000/60000 [==============================] - 1s 24us/step - loss: 0.1959 - acc: 0.8086 - val_loss: 0.1945 - val_acc: 0.8083\n",
            "Epoch 48/50\n",
            "60000/60000 [==============================] - 1s 24us/step - loss: 0.2077 - acc: 0.8069 - val_loss: 0.2417 - val_acc: 0.8040\n",
            "Epoch 49/50\n",
            "60000/60000 [==============================] - 1s 24us/step - loss: 0.2062 - acc: 0.8079 - val_loss: 0.1943 - val_acc: 0.8080\n",
            "Epoch 50/50\n",
            "60000/60000 [==============================] - 1s 24us/step - loss: 0.1869 - acc: 0.8091 - val_loss: 0.1782 - val_acc: 0.8088\n",
            "Train on 60000 samples, validate on 10000 samples\n",
            "Epoch 1/50\n",
            "60000/60000 [==============================] - 2s 32us/step - loss: 0.1658 - acc: 0.8113 - val_loss: 0.1571 - val_acc: 0.8111\n",
            "Epoch 2/50\n",
            "60000/60000 [==============================] - 1s 24us/step - loss: 0.1558 - acc: 0.8122 - val_loss: 0.1562 - val_acc: 0.8111\n",
            "Epoch 3/50\n",
            "60000/60000 [==============================] - 1s 24us/step - loss: 0.1519 - acc: 0.8126 - val_loss: 0.1476 - val_acc: 0.8119\n",
            "Epoch 4/50\n",
            "60000/60000 [==============================] - 1s 24us/step - loss: 0.1490 - acc: 0.8129 - val_loss: 0.1469 - val_acc: 0.8121\n",
            "Epoch 5/50\n",
            "60000/60000 [==============================] - 1s 24us/step - loss: 0.1474 - acc: 0.8130 - val_loss: 0.1447 - val_acc: 0.8123\n",
            "Epoch 6/50\n",
            "60000/60000 [==============================] - 1s 24us/step - loss: 0.1462 - acc: 0.8132 - val_loss: 0.1435 - val_acc: 0.8124\n",
            "Epoch 7/50\n",
            "60000/60000 [==============================] - 1s 25us/step - loss: 0.1453 - acc: 0.8132 - val_loss: 0.1428 - val_acc: 0.8123\n",
            "Epoch 8/50\n",
            "60000/60000 [==============================] - 1s 24us/step - loss: 0.1446 - acc: 0.8133 - val_loss: 0.1423 - val_acc: 0.8126\n",
            "Epoch 9/50\n",
            "60000/60000 [==============================] - 1s 24us/step - loss: 0.1436 - acc: 0.8134 - val_loss: 0.1418 - val_acc: 0.8125\n",
            "Epoch 10/50\n",
            "60000/60000 [==============================] - 1s 25us/step - loss: 0.1437 - acc: 0.8134 - val_loss: 0.1416 - val_acc: 0.8126\n",
            "Epoch 11/50\n",
            "60000/60000 [==============================] - 1s 24us/step - loss: 0.1431 - acc: 0.8134 - val_loss: 0.1428 - val_acc: 0.8126\n",
            "Epoch 12/50\n",
            "60000/60000 [==============================] - 1s 24us/step - loss: 0.1426 - acc: 0.8135 - val_loss: 0.1402 - val_acc: 0.8127\n",
            "Epoch 13/50\n",
            "60000/60000 [==============================] - 1s 24us/step - loss: 0.1422 - acc: 0.8135 - val_loss: 0.1485 - val_acc: 0.8119\n",
            "Epoch 14/50\n",
            "60000/60000 [==============================] - 1s 25us/step - loss: 0.1429 - acc: 0.8135 - val_loss: 0.1407 - val_acc: 0.8127\n",
            "Epoch 15/50\n",
            "60000/60000 [==============================] - 1s 24us/step - loss: 0.1420 - acc: 0.8136 - val_loss: 0.1399 - val_acc: 0.8127\n",
            "Epoch 16/50\n",
            "60000/60000 [==============================] - 1s 24us/step - loss: 0.1421 - acc: 0.8136 - val_loss: 0.1396 - val_acc: 0.8128\n",
            "Epoch 17/50\n",
            "60000/60000 [==============================] - 1s 24us/step - loss: 0.1414 - acc: 0.8136 - val_loss: 0.1398 - val_acc: 0.8127\n",
            "Epoch 18/50\n",
            "60000/60000 [==============================] - 1s 24us/step - loss: 0.1418 - acc: 0.8136 - val_loss: 0.1401 - val_acc: 0.8127\n",
            "Epoch 19/50\n",
            "60000/60000 [==============================] - 1s 24us/step - loss: 0.1413 - acc: 0.8136 - val_loss: 0.1398 - val_acc: 0.8128\n",
            "Epoch 20/50\n",
            "60000/60000 [==============================] - 1s 24us/step - loss: 0.1411 - acc: 0.8137 - val_loss: 0.1398 - val_acc: 0.8128\n",
            "Epoch 21/50\n",
            "60000/60000 [==============================] - 1s 24us/step - loss: 0.1416 - acc: 0.8136 - val_loss: 0.1388 - val_acc: 0.8129\n",
            "Epoch 22/50\n",
            "60000/60000 [==============================] - 1s 25us/step - loss: 0.1411 - acc: 0.8136 - val_loss: 0.1389 - val_acc: 0.8128\n",
            "Epoch 23/50\n",
            "60000/60000 [==============================] - 1s 24us/step - loss: 0.1413 - acc: 0.8136 - val_loss: 0.1384 - val_acc: 0.8129\n",
            "Epoch 24/50\n",
            "60000/60000 [==============================] - 1s 24us/step - loss: 0.1406 - acc: 0.8137 - val_loss: 0.1386 - val_acc: 0.8128\n",
            "Epoch 25/50\n",
            "60000/60000 [==============================] - 1s 23us/step - loss: 0.1404 - acc: 0.8137 - val_loss: 0.1398 - val_acc: 0.8127\n",
            "Epoch 26/50\n",
            "60000/60000 [==============================] - 1s 24us/step - loss: 0.1405 - acc: 0.8137 - val_loss: 0.1400 - val_acc: 0.8127\n",
            "Epoch 27/50\n",
            "60000/60000 [==============================] - 1s 24us/step - loss: 0.1399 - acc: 0.8138 - val_loss: 0.1379 - val_acc: 0.8129\n",
            "Epoch 28/50\n",
            "60000/60000 [==============================] - 1s 25us/step - loss: 0.1402 - acc: 0.8137 - val_loss: 0.1386 - val_acc: 0.8129\n",
            "Epoch 29/50\n",
            "60000/60000 [==============================] - 1s 23us/step - loss: 0.1404 - acc: 0.8137 - val_loss: 0.1381 - val_acc: 0.8129\n",
            "Epoch 30/50\n",
            "60000/60000 [==============================] - 1s 25us/step - loss: 0.1404 - acc: 0.8137 - val_loss: 0.1388 - val_acc: 0.8128\n",
            "Epoch 31/50\n",
            "60000/60000 [==============================] - 1s 24us/step - loss: 0.1410 - acc: 0.8136 - val_loss: 0.1404 - val_acc: 0.8126\n",
            "Epoch 32/50\n",
            "60000/60000 [==============================] - 1s 24us/step - loss: 0.1407 - acc: 0.8137 - val_loss: 0.1394 - val_acc: 0.8129\n",
            "Epoch 33/50\n",
            "60000/60000 [==============================] - 1s 24us/step - loss: 0.1407 - acc: 0.8137 - val_loss: 0.1415 - val_acc: 0.8127\n",
            "Epoch 34/50\n",
            "60000/60000 [==============================] - 1s 24us/step - loss: 0.1404 - acc: 0.8137 - val_loss: 0.1385 - val_acc: 0.8129\n",
            "Epoch 35/50\n",
            "60000/60000 [==============================] - 1s 24us/step - loss: 0.1400 - acc: 0.8137 - val_loss: 0.1382 - val_acc: 0.8129\n",
            "Epoch 36/50\n",
            "60000/60000 [==============================] - 1s 25us/step - loss: 0.1404 - acc: 0.8137 - val_loss: 0.1393 - val_acc: 0.8127\n",
            "Epoch 37/50\n",
            "60000/60000 [==============================] - 1s 24us/step - loss: 0.1402 - acc: 0.8137 - val_loss: 0.1397 - val_acc: 0.8128\n",
            "Epoch 38/50\n",
            "60000/60000 [==============================] - 1s 24us/step - loss: 0.1399 - acc: 0.8138 - val_loss: 0.1377 - val_acc: 0.8129\n",
            "Epoch 39/50\n",
            "60000/60000 [==============================] - 1s 24us/step - loss: 0.1397 - acc: 0.8138 - val_loss: 0.1384 - val_acc: 0.8129\n",
            "Epoch 40/50\n",
            "60000/60000 [==============================] - 1s 24us/step - loss: 0.1398 - acc: 0.8138 - val_loss: 0.1415 - val_acc: 0.8125\n",
            "Epoch 41/50\n",
            "60000/60000 [==============================] - 1s 24us/step - loss: 0.1414 - acc: 0.8136 - val_loss: 0.1395 - val_acc: 0.8128\n",
            "Epoch 42/50\n",
            "60000/60000 [==============================] - 1s 24us/step - loss: 0.1402 - acc: 0.8137 - val_loss: 0.1394 - val_acc: 0.8128\n",
            "Epoch 43/50\n",
            "60000/60000 [==============================] - 1s 25us/step - loss: 0.1407 - acc: 0.8137 - val_loss: 0.1386 - val_acc: 0.8128\n",
            "Epoch 44/50\n",
            "60000/60000 [==============================] - 1s 24us/step - loss: 0.1410 - acc: 0.8137 - val_loss: 0.1402 - val_acc: 0.8128\n",
            "Epoch 45/50\n",
            "60000/60000 [==============================] - 1s 24us/step - loss: 0.1401 - acc: 0.8137 - val_loss: 0.1394 - val_acc: 0.8128\n",
            "Epoch 46/50\n",
            "60000/60000 [==============================] - 1s 25us/step - loss: 0.1403 - acc: 0.8137 - val_loss: 0.1383 - val_acc: 0.8129\n",
            "Epoch 47/50\n",
            "60000/60000 [==============================] - 1s 24us/step - loss: 0.1397 - acc: 0.8138 - val_loss: 0.1386 - val_acc: 0.8129\n",
            "Epoch 48/50\n",
            "60000/60000 [==============================] - 1s 23us/step - loss: 0.1399 - acc: 0.8138 - val_loss: 0.1375 - val_acc: 0.8130\n",
            "Epoch 49/50\n",
            "60000/60000 [==============================] - 1s 24us/step - loss: 0.1399 - acc: 0.8137 - val_loss: 0.1381 - val_acc: 0.8129\n",
            "Epoch 50/50\n",
            "60000/60000 [==============================] - 1s 24us/step - loss: 0.1402 - acc: 0.8137 - val_loss: 0.1446 - val_acc: 0.8125\n",
            "Train on 60000 samples, validate on 10000 samples\n",
            "Epoch 1/50\n",
            "60000/60000 [==============================] - 2s 29us/step - loss: 0.1639 - acc: 0.8123 - val_loss: 0.1585 - val_acc: 0.8117\n",
            "Epoch 2/50\n",
            "60000/60000 [==============================] - 1s 22us/step - loss: 0.1654 - acc: 0.8126 - val_loss: 0.1643 - val_acc: 0.8118\n",
            "Epoch 3/50\n",
            "60000/60000 [==============================] - 1s 22us/step - loss: 0.1875 - acc: 0.8121 - val_loss: 0.1906 - val_acc: 0.8107\n",
            "Epoch 4/50\n",
            "60000/60000 [==============================] - 1s 22us/step - loss: 0.1925 - acc: 0.8115 - val_loss: 0.1865 - val_acc: 0.8108\n",
            "Epoch 5/50\n",
            "60000/60000 [==============================] - 1s 22us/step - loss: 0.1825 - acc: 0.8124 - val_loss: 0.1839 - val_acc: 0.8113\n",
            "Epoch 6/50\n",
            "60000/60000 [==============================] - 1s 22us/step - loss: 0.2029 - acc: 0.8117 - val_loss: 0.2242 - val_acc: 0.8103\n",
            "Epoch 7/50\n",
            "60000/60000 [==============================] - 1s 21us/step - loss: 0.2502 - acc: 0.8098 - val_loss: 0.7338 - val_acc: 0.7838\n",
            "Epoch 8/50\n",
            "60000/60000 [==============================] - 1s 22us/step - loss: 0.3788 - acc: 0.8059 - val_loss: 0.3195 - val_acc: 0.8083\n",
            "Epoch 9/50\n",
            "60000/60000 [==============================] - 1s 22us/step - loss: 0.3011 - acc: 0.8094 - val_loss: 0.3675 - val_acc: 0.8040\n",
            "Epoch 10/50\n",
            "60000/60000 [==============================] - 1s 22us/step - loss: 0.3142 - acc: 0.8086 - val_loss: 0.3264 - val_acc: 0.8065\n",
            "Epoch 11/50\n",
            "60000/60000 [==============================] - 1s 21us/step - loss: 0.3647 - acc: 0.8070 - val_loss: 0.3464 - val_acc: 0.8074\n",
            "Epoch 12/50\n",
            "60000/60000 [==============================] - 1s 21us/step - loss: 0.3666 - acc: 0.8067 - val_loss: 0.3918 - val_acc: 0.8048\n",
            "Epoch 13/50\n",
            "60000/60000 [==============================] - 1s 22us/step - loss: 0.3905 - acc: 0.8062 - val_loss: 0.3899 - val_acc: 0.8060\n",
            "Epoch 14/50\n",
            "60000/60000 [==============================] - 1s 21us/step - loss: 0.4534 - acc: 0.8040 - val_loss: 0.4911 - val_acc: 0.8020\n",
            "Epoch 15/50\n",
            "60000/60000 [==============================] - 1s 22us/step - loss: 0.4880 - acc: 0.8031 - val_loss: 0.4601 - val_acc: 0.8042\n",
            "Epoch 16/50\n",
            "60000/60000 [==============================] - 1s 22us/step - loss: 0.4595 - acc: 0.8054 - val_loss: 0.4496 - val_acc: 0.8049\n",
            "Epoch 17/50\n",
            "60000/60000 [==============================] - 1s 22us/step - loss: 0.5053 - acc: 0.8039 - val_loss: 0.5058 - val_acc: 0.8031\n",
            "Epoch 18/50\n",
            "60000/60000 [==============================] - 1s 21us/step - loss: 0.5091 - acc: 0.8033 - val_loss: 0.5152 - val_acc: 0.8022\n",
            "Epoch 19/50\n",
            "60000/60000 [==============================] - 1s 21us/step - loss: 0.5268 - acc: 0.8016 - val_loss: 0.5307 - val_acc: 0.8008\n",
            "Epoch 20/50\n",
            "60000/60000 [==============================] - 1s 21us/step - loss: 0.5341 - acc: 0.8030 - val_loss: 0.5334 - val_acc: 0.8028\n",
            "Epoch 21/50\n",
            "60000/60000 [==============================] - 1s 22us/step - loss: 0.5317 - acc: 0.8035 - val_loss: 0.5261 - val_acc: 0.8029\n",
            "Epoch 22/50\n",
            "60000/60000 [==============================] - 1s 22us/step - loss: 0.5202 - acc: 0.8037 - val_loss: 0.5181 - val_acc: 0.8032\n",
            "Epoch 23/50\n",
            "60000/60000 [==============================] - 1s 21us/step - loss: 0.5352 - acc: 0.8035 - val_loss: 0.5239 - val_acc: 0.8031\n",
            "Epoch 24/50\n",
            "60000/60000 [==============================] - 1s 22us/step - loss: 0.5269 - acc: 0.8043 - val_loss: 0.5277 - val_acc: 0.8034\n",
            "Epoch 25/50\n",
            "60000/60000 [==============================] - 1s 21us/step - loss: 0.6267 - acc: 0.8000 - val_loss: 0.6635 - val_acc: 0.7989\n",
            "Epoch 26/50\n",
            "60000/60000 [==============================] - 1s 21us/step - loss: 0.6496 - acc: 0.7993 - val_loss: 0.6336 - val_acc: 0.7988\n",
            "Epoch 27/50\n",
            "60000/60000 [==============================] - 1s 21us/step - loss: 0.6301 - acc: 0.7991 - val_loss: 0.6145 - val_acc: 0.7989\n",
            "Epoch 28/50\n",
            "60000/60000 [==============================] - 1s 21us/step - loss: 0.6748 - acc: 0.7952 - val_loss: 0.8285 - val_acc: 0.7832\n",
            "Epoch 29/50\n",
            "60000/60000 [==============================] - 1s 21us/step - loss: 0.6932 - acc: 0.7931 - val_loss: 0.6543 - val_acc: 0.7939\n",
            "Epoch 30/50\n",
            "60000/60000 [==============================] - 1s 22us/step - loss: 0.6834 - acc: 0.7932 - val_loss: 0.6607 - val_acc: 0.7935\n",
            "Epoch 31/50\n",
            "60000/60000 [==============================] - 1s 21us/step - loss: 0.6499 - acc: 0.7961 - val_loss: 0.6481 - val_acc: 0.7960\n",
            "Epoch 32/50\n",
            "60000/60000 [==============================] - 1s 21us/step - loss: 0.6570 - acc: 0.7971 - val_loss: 0.6590 - val_acc: 0.7968\n",
            "Epoch 33/50\n",
            "60000/60000 [==============================] - 1s 22us/step - loss: 0.7255 - acc: 0.7941 - val_loss: 1.3808 - val_acc: 0.7618\n",
            "Epoch 34/50\n",
            "60000/60000 [==============================] - 1s 22us/step - loss: 0.9334 - acc: 0.7846 - val_loss: 0.7810 - val_acc: 0.7903\n",
            "Epoch 35/50\n",
            "60000/60000 [==============================] - 1s 21us/step - loss: 0.7310 - acc: 0.7935 - val_loss: 0.6841 - val_acc: 0.7948\n",
            "Epoch 36/50\n",
            "60000/60000 [==============================] - 1s 21us/step - loss: 0.7206 - acc: 0.7929 - val_loss: 0.6768 - val_acc: 0.7945\n",
            "Epoch 37/50\n",
            "60000/60000 [==============================] - 1s 21us/step - loss: 0.6501 - acc: 0.7954 - val_loss: 0.6329 - val_acc: 0.7945\n",
            "Epoch 38/50\n",
            "60000/60000 [==============================] - 1s 22us/step - loss: 0.6105 - acc: 0.7963 - val_loss: 0.5815 - val_acc: 0.7976\n",
            "Epoch 39/50\n",
            "60000/60000 [==============================] - 1s 22us/step - loss: 0.5384 - acc: 0.8001 - val_loss: 0.5470 - val_acc: 0.7978\n",
            "Epoch 40/50\n",
            "60000/60000 [==============================] - 1s 21us/step - loss: 0.5224 - acc: 0.8012 - val_loss: 0.5078 - val_acc: 0.8020\n",
            "Epoch 41/50\n",
            "60000/60000 [==============================] - 1s 21us/step - loss: 0.4662 - acc: 0.8032 - val_loss: 0.4802 - val_acc: 0.8002\n",
            "Epoch 42/50\n",
            "60000/60000 [==============================] - 1s 22us/step - loss: 0.4770 - acc: 0.8029 - val_loss: 0.4680 - val_acc: 0.8023\n",
            "Epoch 43/50\n",
            "60000/60000 [==============================] - 1s 21us/step - loss: 1.1283 - acc: 0.7716 - val_loss: 0.8306 - val_acc: 0.7868\n",
            "Epoch 44/50\n",
            "60000/60000 [==============================] - 1s 22us/step - loss: 0.6682 - acc: 0.7945 - val_loss: 0.6358 - val_acc: 0.7944\n",
            "Epoch 45/50\n",
            "60000/60000 [==============================] - 1s 21us/step - loss: 0.6904 - acc: 0.7926 - val_loss: 1.0945 - val_acc: 0.7718\n",
            "Epoch 46/50\n",
            "60000/60000 [==============================] - 1s 21us/step - loss: 0.8100 - acc: 0.7880 - val_loss: 0.7315 - val_acc: 0.7914\n",
            "Epoch 47/50\n",
            "60000/60000 [==============================] - 1s 21us/step - loss: 0.6512 - acc: 0.7967 - val_loss: 0.6120 - val_acc: 0.7969\n",
            "Epoch 48/50\n",
            "60000/60000 [==============================] - 1s 22us/step - loss: 0.6162 - acc: 0.7976 - val_loss: 0.6110 - val_acc: 0.7962\n",
            "Epoch 49/50\n",
            "60000/60000 [==============================] - 1s 22us/step - loss: 0.5613 - acc: 0.7985 - val_loss: 0.5502 - val_acc: 0.7977\n",
            "Epoch 50/50\n",
            "60000/60000 [==============================] - 1s 21us/step - loss: 0.5988 - acc: 0.7978 - val_loss: 0.6227 - val_acc: 0.7957\n",
            "Train on 60000 samples, validate on 10000 samples\n",
            "Epoch 1/50\n",
            "60000/60000 [==============================] - 2s 31us/step - loss: 0.3027 - acc: 0.8057 - val_loss: 0.2384 - val_acc: 0.8068\n",
            "Epoch 2/50\n",
            "60000/60000 [==============================] - 1s 22us/step - loss: 0.2218 - acc: 0.8092 - val_loss: 0.2089 - val_acc: 0.8093\n",
            "Epoch 3/50\n",
            "60000/60000 [==============================] - 1s 23us/step - loss: 0.2043 - acc: 0.8105 - val_loss: 0.1988 - val_acc: 0.8099\n",
            "Epoch 4/50\n",
            "60000/60000 [==============================] - 1s 23us/step - loss: 0.1963 - acc: 0.8113 - val_loss: 0.1926 - val_acc: 0.8105\n",
            "Epoch 5/50\n",
            "60000/60000 [==============================] - 1s 23us/step - loss: 0.1922 - acc: 0.8116 - val_loss: 0.1870 - val_acc: 0.8111\n",
            "Epoch 6/50\n",
            "60000/60000 [==============================] - 1s 23us/step - loss: 0.1887 - acc: 0.8119 - val_loss: 0.2072 - val_acc: 0.8096\n",
            "Epoch 7/50\n",
            "60000/60000 [==============================] - 1s 22us/step - loss: 0.1867 - acc: 0.8121 - val_loss: 0.1838 - val_acc: 0.8113\n",
            "Epoch 8/50\n",
            "60000/60000 [==============================] - 1s 22us/step - loss: 0.1840 - acc: 0.8123 - val_loss: 0.1902 - val_acc: 0.8104\n",
            "Epoch 9/50\n",
            "60000/60000 [==============================] - 1s 22us/step - loss: 0.1833 - acc: 0.8123 - val_loss: 0.1824 - val_acc: 0.8115\n",
            "Epoch 10/50\n",
            "60000/60000 [==============================] - 1s 22us/step - loss: 0.1826 - acc: 0.8123 - val_loss: 0.1786 - val_acc: 0.8117\n",
            "Epoch 11/50\n",
            "60000/60000 [==============================] - 1s 22us/step - loss: 0.1839 - acc: 0.8122 - val_loss: 0.1809 - val_acc: 0.8115\n",
            "Epoch 12/50\n",
            "60000/60000 [==============================] - 1s 23us/step - loss: 0.1821 - acc: 0.8124 - val_loss: 0.1779 - val_acc: 0.8119\n",
            "Epoch 13/50\n",
            "60000/60000 [==============================] - 1s 23us/step - loss: 0.1816 - acc: 0.8125 - val_loss: 0.1771 - val_acc: 0.8119\n",
            "Epoch 14/50\n",
            "60000/60000 [==============================] - 1s 23us/step - loss: 0.1821 - acc: 0.8123 - val_loss: 0.1834 - val_acc: 0.8112\n",
            "Epoch 15/50\n",
            "60000/60000 [==============================] - 1s 22us/step - loss: 0.1816 - acc: 0.8125 - val_loss: 0.1772 - val_acc: 0.8120\n",
            "Epoch 16/50\n",
            "60000/60000 [==============================] - 1s 23us/step - loss: 0.1809 - acc: 0.8126 - val_loss: 0.1822 - val_acc: 0.8114\n",
            "Epoch 17/50\n",
            "60000/60000 [==============================] - 1s 22us/step - loss: 0.1807 - acc: 0.8125 - val_loss: 0.1776 - val_acc: 0.8117\n",
            "Epoch 18/50\n",
            "60000/60000 [==============================] - 1s 23us/step - loss: 0.1810 - acc: 0.8125 - val_loss: 0.1826 - val_acc: 0.8117\n",
            "Epoch 19/50\n",
            "60000/60000 [==============================] - 1s 22us/step - loss: 0.1804 - acc: 0.8125 - val_loss: 0.1758 - val_acc: 0.8119\n",
            "Epoch 20/50\n",
            "60000/60000 [==============================] - 1s 23us/step - loss: 0.1813 - acc: 0.8126 - val_loss: 0.1804 - val_acc: 0.8118\n",
            "Epoch 21/50\n",
            "60000/60000 [==============================] - 1s 23us/step - loss: 0.1815 - acc: 0.8125 - val_loss: 0.1760 - val_acc: 0.8119\n",
            "Epoch 22/50\n",
            "60000/60000 [==============================] - 1s 24us/step - loss: 0.1816 - acc: 0.8125 - val_loss: 0.1795 - val_acc: 0.8118\n",
            "Epoch 23/50\n",
            "60000/60000 [==============================] - 1s 23us/step - loss: 0.1815 - acc: 0.8126 - val_loss: 0.1745 - val_acc: 0.8121\n",
            "Epoch 24/50\n",
            "60000/60000 [==============================] - 1s 23us/step - loss: 0.1815 - acc: 0.8124 - val_loss: 0.1842 - val_acc: 0.8112\n",
            "Epoch 25/50\n",
            "60000/60000 [==============================] - 1s 23us/step - loss: 0.1828 - acc: 0.8123 - val_loss: 0.1903 - val_acc: 0.8113\n",
            "Epoch 26/50\n",
            "60000/60000 [==============================] - 1s 23us/step - loss: 0.1831 - acc: 0.8123 - val_loss: 0.1968 - val_acc: 0.8097\n",
            "Epoch 27/50\n",
            "60000/60000 [==============================] - 1s 23us/step - loss: 0.1823 - acc: 0.8124 - val_loss: 0.1813 - val_acc: 0.8115\n",
            "Epoch 28/50\n",
            "60000/60000 [==============================] - 1s 23us/step - loss: 0.1833 - acc: 0.8123 - val_loss: 0.1822 - val_acc: 0.8113\n",
            "Epoch 29/50\n",
            "60000/60000 [==============================] - 1s 23us/step - loss: 0.1835 - acc: 0.8123 - val_loss: 0.1770 - val_acc: 0.8120\n",
            "Epoch 30/50\n",
            "60000/60000 [==============================] - 1s 24us/step - loss: 0.1824 - acc: 0.8124 - val_loss: 0.1815 - val_acc: 0.8116\n",
            "Epoch 31/50\n",
            "60000/60000 [==============================] - 1s 22us/step - loss: 0.1823 - acc: 0.8124 - val_loss: 0.1827 - val_acc: 0.8113\n",
            "Epoch 32/50\n",
            "60000/60000 [==============================] - 1s 22us/step - loss: 0.1825 - acc: 0.8124 - val_loss: 0.1795 - val_acc: 0.8115\n",
            "Epoch 33/50\n",
            "60000/60000 [==============================] - 1s 22us/step - loss: 0.1832 - acc: 0.8124 - val_loss: 0.1818 - val_acc: 0.8109\n",
            "Epoch 34/50\n",
            "60000/60000 [==============================] - 1s 23us/step - loss: 0.1841 - acc: 0.8123 - val_loss: 0.1780 - val_acc: 0.8119\n",
            "Epoch 35/50\n",
            "60000/60000 [==============================] - 1s 22us/step - loss: 0.1837 - acc: 0.8123 - val_loss: 0.1827 - val_acc: 0.8117\n",
            "Epoch 36/50\n",
            "60000/60000 [==============================] - 1s 23us/step - loss: 0.1864 - acc: 0.8121 - val_loss: 0.1789 - val_acc: 0.8118\n",
            "Epoch 37/50\n",
            "60000/60000 [==============================] - 1s 23us/step - loss: 0.1846 - acc: 0.8123 - val_loss: 0.1855 - val_acc: 0.8114\n",
            "Epoch 38/50\n",
            "60000/60000 [==============================] - 1s 22us/step - loss: 0.1841 - acc: 0.8123 - val_loss: 0.1775 - val_acc: 0.8120\n",
            "Epoch 39/50\n",
            "60000/60000 [==============================] - 1s 22us/step - loss: 0.1851 - acc: 0.8121 - val_loss: 0.1849 - val_acc: 0.8112\n",
            "Epoch 40/50\n",
            "60000/60000 [==============================] - 1s 22us/step - loss: 0.1863 - acc: 0.8121 - val_loss: 0.2555 - val_acc: 0.8059\n",
            "Epoch 41/50\n",
            "60000/60000 [==============================] - 1s 23us/step - loss: 0.1850 - acc: 0.8121 - val_loss: 0.1812 - val_acc: 0.8116\n",
            "Epoch 42/50\n",
            "60000/60000 [==============================] - 1s 23us/step - loss: 0.1854 - acc: 0.8121 - val_loss: 0.1780 - val_acc: 0.8119\n",
            "Epoch 43/50\n",
            "60000/60000 [==============================] - 1s 23us/step - loss: 0.1866 - acc: 0.8122 - val_loss: 0.1797 - val_acc: 0.8116\n",
            "Epoch 44/50\n",
            "60000/60000 [==============================] - 1s 22us/step - loss: 0.1855 - acc: 0.8121 - val_loss: 0.1792 - val_acc: 0.8117\n",
            "Epoch 45/50\n",
            "60000/60000 [==============================] - 1s 23us/step - loss: 0.1862 - acc: 0.8121 - val_loss: 0.1820 - val_acc: 0.8111\n",
            "Epoch 46/50\n",
            "60000/60000 [==============================] - 1s 23us/step - loss: 0.1876 - acc: 0.8120 - val_loss: 0.1877 - val_acc: 0.8102\n",
            "Epoch 47/50\n",
            "60000/60000 [==============================] - 1s 23us/step - loss: 0.1883 - acc: 0.8119 - val_loss: 0.2170 - val_acc: 0.8093\n",
            "Epoch 48/50\n",
            "60000/60000 [==============================] - 1s 22us/step - loss: 0.1891 - acc: 0.8118 - val_loss: 0.1826 - val_acc: 0.8113\n",
            "Epoch 49/50\n",
            "60000/60000 [==============================] - 1s 23us/step - loss: 0.1898 - acc: 0.8117 - val_loss: 0.1856 - val_acc: 0.8113\n",
            "Epoch 50/50\n",
            "60000/60000 [==============================] - 1s 23us/step - loss: 0.1908 - acc: 0.8117 - val_loss: 0.1851 - val_acc: 0.8110\n"
          ],
          "name": "stdout"
        }
      ]
    },
    {
      "cell_type": "code",
      "metadata": {
        "id": "u_itOn17obw6",
        "colab_type": "code",
        "colab": {}
      },
      "source": [
        "H={k:() for k in optimizers}"
      ],
      "execution_count": 0,
      "outputs": []
    },
    {
      "cell_type": "code",
      "metadata": {
        "id": "w5UWNgGlwP6r",
        "colab_type": "code",
        "colab": {
          "base_uri": "https://localhost:8080/",
          "height": 35
        },
        "outputId": "1d41ab0d-220e-4957-b3f8-dca767008e5a"
      },
      "source": [
        "H.items()"
      ],
      "execution_count": 184,
      "outputs": [
        {
          "output_type": "execute_result",
          "data": {
            "text/plain": [
              "dict_items([('Adam', ()), ('Adadelta', ()), ('sgd', ()), ('RMSprop', ())])"
            ]
          },
          "metadata": {
            "tags": []
          },
          "execution_count": 184
        }
      ]
    },
    {
      "cell_type": "code",
      "metadata": {
        "id": "HTlEXW9xu16H",
        "colab_type": "code",
        "colab": {
          "base_uri": "https://localhost:8080/",
          "height": 52
        },
        "outputId": "3b66b619-0ba2-4810-c34e-2747e154d4bc"
      },
      "source": [
        "list_of_trainhistory[0]"
      ],
      "execution_count": 178,
      "outputs": [
        {
          "output_type": "execute_result",
          "data": {
            "text/plain": [
              "(<keras.callbacks.History at 0x7fe8e67fe898>,\n",
              " 'Training Loss and Accuracy on MNIST (Adam)')"
            ]
          },
          "metadata": {
            "tags": []
          },
          "execution_count": 178
        }
      ]
    },
    {
      "cell_type": "code",
      "metadata": {
        "id": "sJ4JVHVdqMwy",
        "colab_type": "code",
        "colab": {
          "base_uri": "https://localhost:8080/",
          "height": 156
        },
        "outputId": "5bce96fb-e055-4c72-e487-98d1044dec60"
      },
      "source": [
        "i=0\n",
        "for key,_  in H.items():\n",
        "  print(H[key])\n",
        "  H[key] = list_of_trainhistory[i]\n",
        "  i=i+1\n",
        "  print(i)"
      ],
      "execution_count": 185,
      "outputs": [
        {
          "output_type": "stream",
          "text": [
            "()\n",
            "1\n",
            "()\n",
            "2\n",
            "()\n",
            "3\n",
            "()\n",
            "4\n"
          ],
          "name": "stdout"
        }
      ]
    },
    {
      "cell_type": "code",
      "metadata": {
        "id": "Y-1qBTPFxJkH",
        "colab_type": "code",
        "colab": {
          "base_uri": "https://localhost:8080/",
          "height": 156
        },
        "outputId": "387dd7dc-b7f9-4107-b782-07a1d6ceb067"
      },
      "source": [
        "H"
      ],
      "execution_count": 188,
      "outputs": [
        {
          "output_type": "execute_result",
          "data": {
            "text/plain": [
              "{'Adadelta': (<keras.callbacks.History at 0x7fe8e661c2e8>,\n",
              "  'Training Loss and Accuracy on MNIST (Adadelta)'),\n",
              " 'Adam': (<keras.callbacks.History at 0x7fe8e67fe898>,\n",
              "  'Training Loss and Accuracy on MNIST (Adam)'),\n",
              " 'RMSprop': (<keras.callbacks.History at 0x7fe8e677a860>,\n",
              "  'Training Loss and Accuracy on MNIST (RMSprop)'),\n",
              " 'sgd': (<keras.callbacks.History at 0x7fe93019c978>,\n",
              "  'Training Loss and Accuracy on MNIST (sgd)')}"
            ]
          },
          "metadata": {
            "tags": []
          },
          "execution_count": 188
        }
      ]
    },
    {
      "cell_type": "code",
      "metadata": {
        "id": "kFVhD-L8xORF",
        "colab_type": "code",
        "colab": {
          "base_uri": "https://localhost:8080/",
          "height": 1000
        },
        "outputId": "40275172-e769-4109-8ea1-b028d530419d"
      },
      "source": [
        "plt.style.use(\"ggplot\")\n",
        "\n",
        "fig = plt.figure(figsize=[24,24])\n",
        "i=1\n",
        "for key,value in H.items():\n",
        "  print(i)\n",
        "  h = H[key][0]\n",
        "  print(H[key])\n",
        "  title = H[key][1]\n",
        "  print(title)\n",
        "  EPOCHS = 50\n",
        "  N = np.arange(0, EPOCHS)\n",
        "  print(h.history[\"loss\"])\n",
        "  axs = plt.subplot(2,2,i)\n",
        "  axs.plot(N, h.history[\"loss\"], label=\"train_loss\")\n",
        "  axs.plot(N, h.history[\"val_loss\"], label=\"val_loss\") \n",
        "  axs.plot(N, h.history[\"acc\"], label=\"train_acc\")\n",
        "  axs.plot(N, h.history[\"val_acc\"], label=\"val_acc\")\n",
        "  axs.set_title(title)\n",
        "  axs.set_xlabel(\"Epoch #\")\n",
        "  axs.set_ylabel(\"Loss/Accuracy\")\n",
        "  axs.legend()\n",
        "  i+=1\n",
        "  print(i)\n",
        "  \n",
        "\n",
        "\n",
        "  \n"
      ],
      "execution_count": 231,
      "outputs": [
        {
          "output_type": "stream",
          "text": [
            "1\n",
            "(<keras.callbacks.History object at 0x7fe8e67fe898>, 'Training Loss and Accuracy on MNIST (Adam)')\n",
            "Training Loss and Accuracy on MNIST (Adam)\n",
            "[0.1834110567410787, 0.21554919550418855, 0.20998120619455973, 0.20199253768126169, 0.19435411036809286, 0.18351805940469107, 0.1751065101623535, 0.1738978086868922, 0.17477202370166778, 0.27473431485493977, 0.24622628364562987, 0.23556960779825847, 0.2099408899863561, 0.20762466310660044, 0.20047028579711915, 0.18613578428427377, 0.17845260986487071, 0.17286202596028646, 0.2128442575534185, 0.17514537903467814, 0.17407554533481598, 0.17256525495052338, 0.19593500943978628, 0.19270402063528697, 0.19317162390549977, 0.2479695016304652, 0.22240838343302408, 0.2002804142634074, 0.19131048629283906, 0.17624847377141317, 0.20195359807809193, 0.24042567665576936, 0.2277020978053411, 0.20046440330346427, 0.18405940113862357, 0.17943408772150676, 0.18832452538808186, 0.2204861000776291, 0.205878426861763, 0.1899152110338211, 0.17804540507793426, 0.1920995093425115, 0.19623098369439443, 0.18449302699565887, 0.2304276713291804, 0.1937348796447118, 0.19590896068414052, 0.20770759664376576, 0.20620287857055664, 0.18685467318693796]\n",
            "2\n",
            "2\n",
            "(<keras.callbacks.History object at 0x7fe8e661c2e8>, 'Training Loss and Accuracy on MNIST (Adadelta)')\n",
            "Training Loss and Accuracy on MNIST (Adadelta)\n",
            "[0.16575590773423513, 0.1557930268128713, 0.15186523495515186, 0.14902827598253887, 0.1474334933678309, 0.1462233898560206, 0.14531830844084423, 0.14461332201957702, 0.14364465542634328, 0.14374627385934194, 0.14305743697484335, 0.1426233833551407, 0.14218897365729014, 0.14289809099038442, 0.14201696415742238, 0.14205913138389586, 0.14142195780277253, 0.14175195526281992, 0.14127993678251902, 0.1411097975651423, 0.14161102662881214, 0.14106550950209298, 0.14128260533014933, 0.14060034166177113, 0.14039904806613923, 0.1405169716755549, 0.13990390093326568, 0.14016884036858876, 0.1403850824912389, 0.14035918474992115, 0.14095403430461884, 0.14071928221384683, 0.14070338582197825, 0.1403885516643524, 0.13999011929829916, 0.1404365873893102, 0.14018350763320922, 0.1399496060371399, 0.13969866857528687, 0.1398323341290156, 0.14141452457904816, 0.14024811381498972, 0.1406605495373408, 0.14099124644597372, 0.14011119878292083, 0.14033186767101288, 0.13967628366947174, 0.1399285093943278, 0.13990459984938303, 0.14017926283677418]\n",
            "3\n",
            "3\n",
            "(<keras.callbacks.History object at 0x7fe93019c978>, 'Training Loss and Accuracy on MNIST (sgd)')\n",
            "Training Loss and Accuracy on MNIST (sgd)\n",
            "[0.16385923811594647, 0.16536402442455292, 0.18749467589060465, 0.19248869400024415, 0.182503994679451, 0.20291238832473754, 0.2501644274711609, 0.37882853852907816, 0.3011226113160451, 0.31419484747250875, 0.3646756035645803, 0.36655925623575847, 0.39047779326438903, 0.4534282744248708, 0.48799967656135557, 0.4594821884314219, 0.5053336371421814, 0.5090589934666951, 0.5268178717295329, 0.5340745766003927, 0.5317498154640198, 0.520221777121226, 0.5351720122337341, 0.5268529170354207, 0.6266938593546549, 0.6495795093854269, 0.6301252702395121, 0.6748359803199768, 0.6932116682052613, 0.683393421236674, 0.6498527550697326, 0.6569877018292745, 0.7254771672566732, 0.933445192972819, 0.7310420128186543, 0.7206480875968934, 0.6501397420565287, 0.610522046883901, 0.5384202922503154, 0.5224285859107971, 0.46616895248095197, 0.47699306015968324, 1.1283438055992125, 0.668162881120046, 0.6904099934260051, 0.8099542547861736, 0.6512329485257466, 0.6162103585243225, 0.5613269208590189, 0.5988249798138936]\n",
            "4\n",
            "4\n",
            "(<keras.callbacks.History object at 0x7fe8e677a860>, 'Training Loss and Accuracy on MNIST (RMSprop)')\n",
            "Training Loss and Accuracy on MNIST (RMSprop)\n",
            "[0.3026856440146764, 0.22183288106918336, 0.2043029020309448, 0.1963326054652532, 0.1921805031855901, 0.18873480338255563, 0.18672251389026642, 0.1839736915032069, 0.1832814573287964, 0.18258500125408172, 0.18387166194121043, 0.18211844716866812, 0.18162825342019398, 0.18213733843962351, 0.18164389299551645, 0.1809482187271118, 0.18071380927562714, 0.18095542646249135, 0.1803548231681188, 0.18130573008855183, 0.18151575890382132, 0.18155438498655954, 0.1815389176050822, 0.18149341436227162, 0.18284972488880158, 0.18310633843739826, 0.18230931434631348, 0.1832987568616867, 0.18354964543183644, 0.1824372862815857, 0.18231516816616058, 0.18251815074284872, 0.18317644550800324, 0.1841452065149943, 0.18373390203317005, 0.18635184423923493, 0.18463340371449788, 0.18408001486460368, 0.18511666702429452, 0.18629226102034252, 0.18499680971304575, 0.1854212883869807, 0.1866423910776774, 0.1855349313735962, 0.18622479895750682, 0.1875691562573115, 0.18828587389787038, 0.18913348789215087, 0.18982056740919748, 0.19077807801564534]\n",
            "5\n"
          ],
          "name": "stdout"
        },
        {
          "output_type": "display_data",
          "data": {
            "image/png": "[encoded data removed]",
            "text/plain": [
              "<Figure size 1728x1728 with 4 Axes>"
            ]
          },
          "metadata": {
            "tags": []
          }
        }
      ]
    },
    {
      "cell_type": "code",
      "metadata": {
        "id": "3nfh4NYW9MHn",
        "colab_type": "code",
        "colab": {
          "base_uri": "https://localhost:8080/",
          "height": 35
        },
        "outputId": "b65b48b1-9fbf-4b41-9f54-35fa74bef33c"
      },
      "source": [
        "os.getcwd()"
      ],
      "execution_count": 234,
      "outputs": [
        {
          "output_type": "execute_result",
          "data": {
            "text/plain": [
              "'/content/drive/My Drive/Demonstration_of_Optimizers_in_Keras'"
            ]
          },
          "metadata": {
            "tags": []
          },
          "execution_count": 234
        }
      ]
    },
    {
      "cell_type": "code",
      "metadata": {
        "id": "q619OlxB4jH4",
        "colab_type": "code",
        "colab": {
          "base_uri": "https://localhost:8080/",
          "height": 35
        },
        "outputId": "d9e92cb9-f3e0-47a8-bf7b-6ac5280d9085"
      },
      "source": [
        "save_results_to = os.getcwd()\n",
        "plt.savefig(save_results_to+\"/\"+\"Different_Optimizers_for_50_eopchs_on_MNIST_Data_set.png\")"
      ],
      "execution_count": 239,
      "outputs": [
        {
          "output_type": "display_data",
          "data": {
            "text/plain": [
              "<Figure size 432x288 with 0 Axes>"
            ]
          },
          "metadata": {
            "tags": []
          }
        }
      ]
    },
    {
      "cell_type": "code",
      "metadata": {
        "id": "Vw6FzV1Y9TPa",
        "colab_type": "code",
        "colab": {}
      },
      "source": [
        ""
      ],
      "execution_count": 0,
      "outputs": []
    }
  ]
}